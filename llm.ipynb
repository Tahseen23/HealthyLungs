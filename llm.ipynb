{
 "cells": [
  {
   "cell_type": "code",
   "execution_count": 39,
   "metadata": {},
   "outputs": [],
   "source": [
    "from langchain_huggingface import HuggingFaceEndpoint\n",
    "from langchain.chains import RetrievalQA\n",
    "from langchain.embeddings import HuggingFaceEmbeddings\n",
    "from langchain.text_splitter import RecursiveCharacterTextSplitter\n",
    "from langchain.chains.combine_documents.stuff import StuffDocumentsChain\n",
    "from langchain.schema.runnable import RunnablePassthrough\n",
    "from langchain_core.output_parsers import StrOutputParser\n",
    "from langchain.prompts import PromptTemplate, ChatPromptTemplate\n",
    "from langchain_community.document_loaders import PyPDFLoader\n",
    "import chromadb\n",
    "import uuid\n",
    "from langchain.vectorstores import Chroma\n",
    "from chromadb.utils.batch_utils import create_batches\n",
    "from dotenv import load_dotenv\n",
    "load_dotenv()\n",
    "import os"
   ]
  },
  {
   "cell_type": "code",
   "execution_count": 51,
   "metadata": {},
   "outputs": [
    {
     "name": "stderr",
     "output_type": "stream",
     "text": [
      "WARNING! add_to_git_credential is not default parameter.\n",
      "                    add_to_git_credential was transferred to model_kwargs.\n",
      "                    Please make sure that add_to_git_credential is what you intended.\n"
     ]
    },
    {
     "name": "stdout",
     "output_type": "stream",
     "text": [
      "The token has not been saved to the git credentials helper. Pass `add_to_git_credential=True` in this function directly or `--add-to-git-credential` if using via `huggingface-cli` if you want to set the git credential as well.\n",
      "Token is valid (permission: fineGrained).\n",
      "Your token has been saved to C:\\Users\\hp\\.cache\\huggingface\\token\n",
      "Login successful\n"
     ]
    }
   ],
   "source": [
    "repo_id=\"mistralai/Mixtral-8x7B-Instruct-v0.1\"\n",
    "key=os.environ.get('api_key')\n",
    "model=HuggingFaceEndpoint(repo_id=repo_id,huggingfacehub_api_token=key,add_to_git_credential=True)"
   ]
  },
  {
   "cell_type": "code",
   "execution_count": 32,
   "metadata": {},
   "outputs": [],
   "source": [
    "embeddings=HuggingFaceEmbeddings(model_name='sentence-transformers/all-MiniLM-L6-v2')"
   ]
  },
  {
   "cell_type": "code",
   "execution_count": 27,
   "metadata": {},
   "outputs": [],
   "source": [
    "loader=PyPDFLoader(r\"C:\\Users\\hp\\Downloads\\ilovepdf_merged_merged.pdf\",extract_images=False)\n",
    "data=loader.load()"
   ]
  },
  {
   "cell_type": "code",
   "execution_count": 28,
   "metadata": {},
   "outputs": [
    {
     "data": {
      "text/plain": [
       "2841"
      ]
     },
     "execution_count": 28,
     "metadata": {},
     "output_type": "execute_result"
    }
   ],
   "source": [
    "textSplitter=RecursiveCharacterTextSplitter(chunk_size=500,chunk_overlap=50)\n",
    "textChunks=textSplitter.split_documents(data)\n",
    "len(textChunks)"
   ]
  },
  {
   "cell_type": "code",
   "execution_count": 43,
   "metadata": {},
   "outputs": [],
   "source": [
    "def batch(iterable, n=1):\n",
    "    l = len(iterable)\n",
    "    for ndx in range(0, l, n):\n",
    "        yield iterable[ndx:min(ndx + n, l)]\n",
    "\n",
    "from chromadb import Client\n",
    "\n",
    "# Initialize the ChromaDB client\n",
    "chromClient = Client()\n",
    "\n",
    "max_batch_size = 166\n",
    "\n",
    "batches = list(batch(textChunks, max_batch_size))\n",
    "\n",
    "# Create a collection in the ChromaDB client\n",
    "# collection = chromClient.create_collection(name=\"lungcancerHack\")\n",
    "\n",
    "# Add documents in batches\n",
    "for batch_documents in batches:\n",
    "    vectorStore = Chroma.from_documents(documents=batch_documents,\n",
    "                                        collection_name=\"lungcancerHack\",\n",
    "                                        embedding=embeddings)\n",
    "\n"
   ]
  },
  {
   "cell_type": "code",
   "execution_count": 44,
   "metadata": {},
   "outputs": [],
   "source": [
    "retriever=vectorStore.as_retriever()"
   ]
  },
  {
   "cell_type": "code",
   "execution_count": 45,
   "metadata": {},
   "outputs": [
    {
     "name": "stderr",
     "output_type": "stream",
     "text": [
      "e:\\HealthyLungs\\hack\\lib\\site-packages\\langchain_core\\_api\\deprecation.py:139: LangChainDeprecationWarning: The method `Chain.run` was deprecated in langchain 0.1.0 and will be removed in 0.3.0. Use invoke instead.\n",
      "  warn_deprecated(\n"
     ]
    },
    {
     "data": {
      "text/plain": [
       "'\\nLung cancer is a disease caused by uncontrolled cell division in the lungs. This can result in the formation of a tumor, which can be seen on chest x-rays or CT scans as a nodule or a mass. Lung cancer usually starts in the airways or small air sacs of the lungs and can then spread to other organs. It is more common in people who have smoked tobacco products, but it can also occur in non-smokers.'"
      ]
     },
     "execution_count": 45,
     "metadata": {},
     "output_type": "execute_result"
    }
   ],
   "source": [
    "query=\"What is Lungs Cancer?\"\n",
    "qa_chain=RetrievalQA.from_chain_type(\n",
    "    llm=model,\n",
    "    chain_type='stuff',\n",
    "    retriever=retriever,\n",
    ")\n",
    "qa_chain.run(query)"
   ]
  },
  {
   "cell_type": "code",
   "execution_count": 52,
   "metadata": {},
   "outputs": [
    {
     "data": {
      "text/plain": [
       "'Patient is at final stage of lung cancer. Patient is experiencing cough and chest pain for the past 10 days.'"
      ]
     },
     "execution_count": 52,
     "metadata": {},
     "output_type": "execute_result"
    }
   ],
   "source": [
    "stage=\"final\"\n",
    "problem=\"cough and chest pain\"\n",
    "time=\"10 days\"\n",
    "query=f\"Patient is at {stage} stage of lung cancer. Patient is experiencing {problem} for the past {time}.\"\n",
    "query\n"
   ]
  },
  {
   "cell_type": "code",
   "execution_count": 53,
   "metadata": {},
   "outputs": [],
   "source": [
    "template = \"\"\"\n",
    "You are a lung cancer specialist. Your job is to provide a roadmap for the surgery and treatment of the patient. Junior doctors have already conducted imaging tests such as a chest CT scan and a PET scan, along with other lung cancer tests, and discussed the symptoms, medical history, and any other relevant information. The stage of lung cancer has already been determined and is provided below.\n",
    "\n",
    "Your job is to generate a roadmap for how the doctor should proceed with the treatment of this particular patient, given the cancer stage and condition provided and also include potential drawbacks for each treatment. This should include recommendations for physical exercises the patient should do, things the patient needs to avoid, and a complete explanation of each step and potential drawbacks based on the context provided.\n",
    "\n",
    "Context: {context}\n",
    "\n",
    "Condition: {condition}\n",
    "\n",
    "If you think the information provided is not relevant or the condition given to you by the junior doctor is not relevant, simply say, \"Please provide correct information.\" If the patient is already in a normal condition, just simply say, \"Don't worry, you are okay!\" and don't need to generate a roadmap.\n",
    "\"\"\"\n",
    "prompt = ChatPromptTemplate.from_template(template)"
   ]
  },
  {
   "cell_type": "code",
   "execution_count": 54,
   "metadata": {},
   "outputs": [
    {
     "data": {
      "text/plain": [
       "\"\\nRoadmap: \\n\\n1. Surgery: Given the final stage of lung cancer, surgery is not a viable option as it would not significantly improve the patient's condition. Moreover, the patient's current health status might not withstand the rigors of surgery.\\n\\n2. Radiation Therapy: This treatment can be used to shrink tumors and alleviate symptoms such as coughing and chest pain. However, it may cause side effects such as fatigue, skin reactions, and potential damage to nearby organs.\\n\\n3. Chemotherapy: This can be used to slow the growth of cancer cells and alleviate symptoms. However, it may cause side effects such as hair loss, nausea, and a weakened immune system.\\n\\n4. Immunotherapy: This is a newer treatment that uses the body's own immune system to fight cancer. It has fewer side effects than chemotherapy but may not be as effective for late-stage lung cancer.\\n\\n5. Palliative Care: This focuses on relieving symptoms and improving the patient's quality of life. It can be used in conjunction with other treatments.\\n\\nPhysical Exercises: The patient should engage in light physical activities such as walking, stretching, and deep breathing exercises to help manage symptoms and improve overall well-being.\\n\\nThings to Avoid: The patient should avoid smoking, exposure to secondhand smoke, and polluted environments. They should also avoid strenuous activities that may exacerbate symptoms.\\n\\nDrawbacks: The drawbacks of these treatments include potential side effects, the possibility of reduced effectiveness in late-stage cancer, and the emotional toll they may have on the patient. It's important to have open discussions about these drawbacks with the patient and their family.\""
      ]
     },
     "execution_count": 54,
     "metadata": {},
     "output_type": "execute_result"
    }
   ],
   "source": [
    "from langchain.chains import HypotheticalDocumentEmbedder\n",
    "hyde_embeddings=HypotheticalDocumentEmbedder.from_llm(model,\n",
    "                                                      embeddings,\n",
    "                                                      prompt_key=\"web_search\")\n",
    "def formatDocs(docs):\n",
    "    return \"\\n\\n\".join(doc.page_content for doc in docs)\n",
    "\n",
    "rag_chain = (\n",
    "   {\"context\": retriever|formatDocs , \"condition\": RunnablePassthrough()}\n",
    "   | prompt\n",
    "   | model\n",
    "   | StrOutputParser()\n",
    ")\n",
    "rag_chain.invoke(query)"
   ]
  },
  {
   "cell_type": "code",
   "execution_count": 65,
   "metadata": {},
   "outputs": [
    {
     "data": {
      "text/plain": [
       "-338058334"
      ]
     },
     "execution_count": 65,
     "metadata": {},
     "output_type": "execute_result"
    }
   ],
   "source": []
  },
  {
   "cell_type": "code",
   "execution_count": null,
   "metadata": {},
   "outputs": [],
   "source": []
  },
  {
   "cell_type": "code",
   "execution_count": null,
   "metadata": {},
   "outputs": [],
   "source": []
  },
  {
   "cell_type": "code",
   "execution_count": null,
   "metadata": {},
   "outputs": [],
   "source": []
  },
  {
   "cell_type": "code",
   "execution_count": null,
   "metadata": {},
   "outputs": [],
   "source": []
  }
 ],
 "metadata": {
  "kernelspec": {
   "display_name": "hack",
   "language": "python",
   "name": "python3"
  },
  "language_info": {
   "codemirror_mode": {
    "name": "ipython",
    "version": 3
   },
   "file_extension": ".py",
   "mimetype": "text/x-python",
   "name": "python",
   "nbconvert_exporter": "python",
   "pygments_lexer": "ipython3",
   "version": "3.10.0"
  }
 },
 "nbformat": 4,
 "nbformat_minor": 2
}
